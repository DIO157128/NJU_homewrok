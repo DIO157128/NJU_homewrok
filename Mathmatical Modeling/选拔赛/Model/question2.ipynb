{
 "cells": [
  {
   "cell_type": "code",
   "execution_count": 6,
   "metadata": {
    "collapsed": true
   },
   "outputs": [],
   "source": [
    "import numpy\n",
    "import pandas as pd\n",
    "import numpy as np\n",
    "import scipy.stats as stats\n",
    "import csv\n",
    "import matplotlib.pyplot as plt\n",
    "import math"
   ]
  },
  {
   "cell_type": "code",
   "execution_count": 10,
   "outputs": [],
   "source": [
    "def readCol(col,path):\n",
    "    df = pd.read_csv(path)\n",
    "    to_check = np.array(df.iloc[:, col-1:col])\n",
    "    res = []\n",
    "    for line in to_check:\n",
    "        res.append(line[0])\n",
    "    return np.array(res)\n",
    "def readRow(row,path):\n",
    "    df = pd.read_csv(path)\n",
    "    to_check = np.array(df.iloc[row-1:row, :])\n",
    "    res = to_check[0]\n",
    "    return np.array(res)\n",
    "def generateBox(col,path):\n",
    "    to_check = readCol(col,path)\n",
    "    plt.boxplot(to_check)\n",
    "    plt.show()\n",
    "    Q1 = np.quantile(a=to_check, q=0.25)\n",
    "    Q3 = np.quantile(a=to_check, q=0.75)\n",
    "    # 计算 四分位差\n",
    "    QR = Q3 - Q1\n",
    "    # 下限 与 上线\n",
    "    low_limit = Q1 - 1.5 * QR\n",
    "    up_limit = Q3 + 1.5 * QR\n",
    "    print('下限为：', low_limit)\n",
    "    print('上限为：', up_limit)\n",
    "    print('异常值有：')\n",
    "    print(to_check[(to_check < low_limit) + (to_check > up_limit)])\n",
    "    return low_limit,up_limit,to_check[(to_check < low_limit) + (to_check > up_limit)]\n",
    "def generateBoxAll(path):\n",
    "    dt = pd.read_csv(path)\n",
    "    dt.boxplot()\n",
    "    plt.show()\n",
    "def gaussCheck(col,path):\n",
    "    to_check = readCol(col,path)\n",
    "    df = pd.DataFrame(to_check, columns=['value'])\n",
    "    u = df['value'].mean()  # 计算均值\n",
    "    std = df['value'].std()  # 计算标准差\n",
    "    print(stats.kstest(df['value'], 'norm', (u, std)))\n",
    "    # .kstest方法：KS检验，参数分别是：待检验的数据，检验方法（这里设置成norm正态分布），均值与标准差\n",
    "    # 结果返回两个值：statistic → D值，pvalue → P值\n",
    "    # p值大于0.05，为正态分布\n",
    "def checkAll(path):\n",
    "    to_check = readCol(1,path)\n",
    "    for i in range(1, 11):\n",
    "        to_check = np.append(to_check, readCol(i,path))\n",
    "    df = pd.DataFrame(to_check, columns=['value'])\n",
    "    u = df['value'].mean()  # 计算均值\n",
    "    std = df['value'].std()  # 计算标准差\n",
    "    print(stats.kstest(df['value'], 'norm', (u, std)))\n",
    "    plt.boxplot(to_check)\n",
    "    plt.show()\n",
    "    Q1 = np.quantile(a=to_check, q=0.25)\n",
    "    Q3 = np.quantile(a=to_check, q=0.75)\n",
    "    # 计算 四分位差\n",
    "    QR = Q3 - Q1\n",
    "    # 下限 与 上线\n",
    "    low_limit = Q1 - 1.5 * QR\n",
    "    up_limit = Q3 + 1.5 * QR\n",
    "    print('下限为：', low_limit)\n",
    "    print('上限为：', up_limit)\n",
    "    print('异常值有：')\n",
    "    print(to_check[(to_check < low_limit) + (to_check > up_limit)])\n",
    "    return low_limit,up_limit,to_check[(to_check < low_limit) + (to_check > up_limit)]\n",
    "def checkAllSep(path):\n",
    "    for i in range(1,11):\n",
    "        gaussCheck(i,path)\n",
    "        generateBox(i,path)\n",
    "        print(\"*\"*20)\n",
    "def Zscore(path):\n",
    "    all_data = pd.read_csv(path)\n",
    "    to_check = readCol(1, path)\n",
    "    for i in range(1, 11):\n",
    "        to_check = np.append(to_check, readCol(i, path))\n",
    "    df = pd.DataFrame(to_check, columns=['value'])\n",
    "    u_all = df['value'].mean()  # 计算均值\n",
    "    std_all = df['value'].std()  # 计算标准差\n",
    "    for i in range(1,11):\n",
    "        to_check = readCol(i,path)\n",
    "        df = pd.DataFrame(to_check, columns=['value'])\n",
    "        u = df['value'].mean()  # 计算均值\n",
    "        std = df['value'].std()  # 计算标准差\n",
    "        for j in range(200):\n",
    "            all_data.iloc[j-1,i-1]=(all_data.iloc[j-1,i-1]-u)/std*std_all+u_all\n",
    "    all_data.to_csv(r\"data_after_normalization.csv\", mode='w', index=False)\n",
    "def calAve(path):\n",
    "    ave = []\n",
    "    for i in range(1,201):\n",
    "        row = readRow(i,path)\n",
    "        row_ave = sum(row)/len(row)\n",
    "        ave.append(row_ave)\n",
    "    df = pd.read_csv(\"data_after_normalization.csv\")\n",
    "    df['平均值'] = ave\n",
    "    df.to_csv(r\"data_after_normalization.csv\", mode='w', index=False)\n",
    "def setPrize(path):\n",
    "    res = open(\"prize.txt\",'w',encoding=\"utf-8\")\n",
    "    ave = readCol(11,path)\n",
    "    to_sort = []\n",
    "    idx=1\n",
    "    for i in ave:\n",
    "        to_sort.append([idx,i])\n",
    "        idx+=1\n",
    "    to_sort.sort(key=lambda x: (-x[1]))\n",
    "    res.write(\"获一等奖的组为：\\n\")\n",
    "    for i in range(0,20):\n",
    "        res.write(\"第{}组\".format(str(to_sort[i][0]))+\"，得分{}\".format(str(to_sort[i][1]))+'\\n')\n",
    "    res.write(\"获二等奖的组为：\\n\")\n",
    "    for i in range(20,50):\n",
    "        res.write(\"第{}组\".format(str(to_sort[i][0]))+\"，得分{}\".format(str(to_sort[i][1])+'\\n'))\n",
    "    res.write(\"获三等奖的组为：\\n\")\n",
    "    for i in range(51, 100):\n",
    "        res.write(\"第{}组\".format(str(to_sort[i][0]))+\"，得分{}\".format(str(to_sort[i][1]))+'\\n')\n",
    "def modifyData(path,path2):\n",
    "    all_data = pd.read_csv(path)\n",
    "    for i in range(1,11):\n",
    "        low,up,invalid = generateBox(i,path)\n",
    "        low=math.ceil(low)\n",
    "        up =math.floor(up)\n",
    "        for j in range(200):\n",
    "            if all_data.iloc[j - 1, i - 1] in invalid:\n",
    "                if all_data.iloc[j - 1, i - 1]>up:\n",
    "                    all_data.iloc[j - 1, i - 1] = up\n",
    "                else:\n",
    "                    all_data.iloc[j - 1, i - 1] = low\n",
    "    all_data.to_csv(path2, mode='w', index=False)\n",
    "    # low_all, up_all, invalid_all = checkAll(r\"data_after_modification.csv\")\n",
    "    # low_all = math.ceil(low_all)\n",
    "    # up_all = math.floor(up_all)\n",
    "    # for i in range(1, 11):\n",
    "    #     for j in range(200):\n",
    "    #         if all_data.iloc[j - 1, i - 1] in invalid_all:\n",
    "    #             if all_data.iloc[j - 1, i - 1] > up_all:\n",
    "    #                 all_data.iloc[j - 1, i - 1] = up_all\n",
    "    #             else:\n",
    "    #                 all_data.iloc[j - 1, i - 1] = low_all\n",
    "    # all_data.to_csv(r\"data_after_modification.csv\", mode='w', index=False)\n"
   ],
   "metadata": {
    "collapsed": false,
    "pycharm": {
     "name": "#%%\n"
    }
   }
  },
  {
   "cell_type": "code",
   "execution_count": null,
   "outputs": [],
   "source": [
    "checkAllSep(\"data.csv\")#检查每个评委的打分情况是否符合正态分布"
   ],
   "metadata": {
    "collapsed": false,
    "pycharm": {
     "name": "#%%\n"
    }
   }
  },
  {
   "cell_type": "code",
   "execution_count": null,
   "outputs": [],
   "source": [
    "modifyData(\"data.csv\")"
   ],
   "metadata": {
    "collapsed": false,
    "pycharm": {
     "name": "#%%\n",
     "is_executing": true
    }
   }
  },
  {
   "cell_type": "code",
   "execution_count": null,
   "outputs": [],
   "source": [
    "checkAllSep(\"data_after_modification.csv\")"
   ],
   "metadata": {
    "collapsed": false,
    "pycharm": {
     "name": "#%%\n"
    }
   }
  },
  {
   "cell_type": "code",
   "execution_count": null,
   "outputs": [],
   "source": [
    "generateBoxAll(\"data_after_modification.csv\")"
   ],
   "metadata": {
    "collapsed": false,
    "pycharm": {
     "name": "#%%\n",
     "is_executing": true
    }
   }
  },
  {
   "cell_type": "code",
   "execution_count": null,
   "outputs": [],
   "source": [
    "Zscore(\"data_after_modification.csv\")"
   ],
   "metadata": {
    "collapsed": false,
    "pycharm": {
     "name": "#%%\n"
    }
   }
  },
  {
   "cell_type": "code",
   "execution_count": null,
   "outputs": [],
   "source": [
    "modifyData(\"data_after_normalization.csv\",\"data_after_normalization.csv\")\n",
    "checkAllSep(\"data_after_normalization.csv\")"
   ],
   "metadata": {
    "collapsed": false,
    "pycharm": {
     "name": "#%%\n"
    }
   }
  },
  {
   "cell_type": "code",
   "execution_count": 11,
   "outputs": [],
   "source": [
    "calAve(\"data_after_normalization.csv\")"
   ],
   "metadata": {
    "collapsed": false,
    "pycharm": {
     "name": "#%%\n"
    }
   }
  },
  {
   "cell_type": "code",
   "execution_count": null,
   "outputs": [],
   "source": [
    "setPrize(\"data_after_normalization.csv\")"
   ],
   "metadata": {
    "collapsed": false,
    "pycharm": {
     "name": "#%%\n"
    }
   }
  }
 ],
 "metadata": {
  "kernelspec": {
   "display_name": "Python 3",
   "language": "python",
   "name": "python3"
  },
  "language_info": {
   "codemirror_mode": {
    "name": "ipython",
    "version": 2
   },
   "file_extension": ".py",
   "mimetype": "text/x-python",
   "name": "python",
   "nbconvert_exporter": "python",
   "pygments_lexer": "ipython2",
   "version": "2.7.6"
  }
 },
 "nbformat": 4,
 "nbformat_minor": 0
}